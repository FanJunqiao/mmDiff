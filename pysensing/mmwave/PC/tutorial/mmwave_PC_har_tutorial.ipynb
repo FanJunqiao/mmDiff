{
 "cells": [
  {
   "cell_type": "markdown",
   "id": "cbc31a44-e322-46d7-bdd0-2592d8fa6c99",
   "metadata": {},
   "source": [
    "## Tutorial for Human Activity Recognition"
   ]
  },
  {
   "cell_type": "code",
   "execution_count": 1,
   "id": "a5c85382-4005-477c-ae0c-a17ee0481242",
   "metadata": {},
   "outputs": [],
   "source": [
    "import yaml\n",
    "import torch\n",
    "import torch.nn as nn\n",
    "from tqdm import tqdm\n",
    "import os"
   ]
  },
  {
   "cell_type": "markdown",
   "id": "f7bcf0d4-6e26-48ca-8270-08491dd868c4",
   "metadata": {},
   "source": [
    "## Dataset with radHAR: \n",
    "radHAR dataset is designed to use mmWave PC data collected by IWR1443Ti to predict the actions of the users.\n",
    "There are totally 5 actions in the dataset: ['boxing','jack','jump','squats','walk']\n",
    "\n",
    "In the library, we provide a dataloader to use mmWave PC data , converted into voxel image, and predict these actions. "
   ]
  },
  {
   "cell_type": "markdown",
   "id": "0f9ecd05-f056-4322-b2c0-bb94b081df2d",
   "metadata": {},
   "source": [
    "### Load the data"
   ]
  },
  {
   "cell_type": "code",
   "execution_count": 2,
   "id": "08ef8db0-c56e-47ca-9923-259016a0461a",
   "metadata": {},
   "outputs": [
    {
     "name": "stdout",
     "output_type": "stream",
     "text": [
      "using dataset: radHAR DATA\n"
     ]
    }
   ],
   "source": [
    "from dataset.har import load_har_dataset\n",
    "# The path contains the radHAR dataset\n",
    "root =  '/home/junqiao/projects/mmWave_sensing/RadHAR/Data/' \n",
    "train_dataset, test_dataset = load_har_dataset(\"radHAR\", root)"
   ]
  },
  {
   "cell_type": "markdown",
   "id": "78c433b6",
   "metadata": {},
   "source": [
    "### Visualize the voxel image"
   ]
  },
  {
   "cell_type": "code",
   "execution_count": 3,
   "id": "62a9d129",
   "metadata": {},
   "outputs": [
    {
     "name": "stdout",
     "output_type": "stream",
     "text": [
      "(60, 10, 32, 32) <class 'numpy.ndarray'>\n"
     ]
    },
    {
     "data": {
      "image/png": "[encoded data removed]",
      "text/plain": [
       "<Figure size 1000x600 with 1 Axes>"
      ]
     },
     "metadata": {},
     "output_type": "display_data"
    }
   ],
   "source": [
    "from matplotlib import pyplot as plt\n",
    "# Example of the samples in the dataset\n",
    "index = 9  # Randomly select an index\n",
    "voxels,activity = train_dataset.__getitem__(index)\n",
    "\n",
    "\n",
    "print(voxels.shape, type(voxels))\n",
    "\n",
    "plt.figure(figsize=(10,6))\n",
    "plt.imshow(voxels[0].transpose(1,2,0).mean(-1))\n",
    "plt.title(\"Voxel image for activity: {}\".format(activity))\n",
    "plt.show()"
   ]
  },
  {
   "cell_type": "markdown",
   "id": "4f1ccfec-0210-4b57-9ac8-846bdf66d5c7",
   "metadata": {},
   "source": [
    "## Create model \n",
    "raHAR utilizes MLP-based model as a baseline har method. From model.har, we can import desired har model designed for mmWave PC. The model parameter for har_MLP reimplemented for radHAR is as follows:"
   ]
  },
  {
   "cell_type": "code",
   "execution_count": 4,
   "id": "68fe19ea-5381-47d9-b1a0-3ef5e38fd7d6",
   "metadata": {
    "scrolled": true
   },
   "outputs": [
    {
     "name": "stdout",
     "output_type": "stream",
     "text": [
      "har_MLP(\n",
      "  (fc): Sequential(\n",
      "    (0): Linear(in_features=614400, out_features=64, bias=True)\n",
      "    (1): ReLU()\n",
      "    (2): Dropout(p=0.5, inplace=False)\n",
      "    (3): Linear(in_features=64, out_features=64, bias=True)\n",
      "    (4): ReLU()\n",
      "    (5): Dropout(p=0.5, inplace=False)\n",
      "    (6): Linear(in_features=64, out_features=64, bias=True)\n",
      "    (7): ReLU()\n",
      "    (8): Dropout(p=0.5, inplace=False)\n",
      "    (9): Linear(in_features=64, out_features=64, bias=True)\n",
      "    (10): ReLU()\n",
      "    (11): Dropout(p=0.5, inplace=False)\n",
      "  )\n",
      "  (classifier): Sequential(\n",
      "    (0): Linear(in_features=64, out_features=5, bias=True)\n",
      "    (1): Softmax(dim=-1)\n",
      "  )\n",
      ")\n"
     ]
    }
   ],
   "source": [
    "from model.har import har_MLP\n",
    "model = har_MLP(dataset=\"radHAR\", num_classes=5)\n",
    "print(model)"
   ]
  },
  {
   "cell_type": "markdown",
   "id": "76a37f93",
   "metadata": {},
   "source": [
    "## Model Train\n",
    "pysensing library support quick training of model with the following steps. The training interface incorporates pytorch loss functions, optimizers and dataloaders to facilate training. An example is provided for how to define the aforemetioned terms."
   ]
  },
  {
   "cell_type": "code",
   "execution_count": null,
   "id": "f0aadad5",
   "metadata": {},
   "outputs": [],
   "source": [
    "# Create pytorch dataloaders\n",
    "train_loader = torch.utils.data.DataLoader(train_dataset, shuffle=True, batch_size=128, num_workers=16)\n",
    "test_loader = torch.utils.data.DataLoader(test_dataset, batch_size=128, shuffle=False, num_workers=16)\n",
    "\n",
    "# Define pytorch loss function as criterion \n",
    "criterion = nn.CrossEntropyLoss()\n",
    "\n",
    "# Define pytorch optimizer for training\n",
    "optimizer = torch.optim.Adam(model.parameters(), lr=1e-3)\n",
    "\n",
    "# GPU acceleration with cuda\n",
    "device = torch.device(\"cuda\" if torch.cuda.is_available() else \"cpu\")"
   ]
  },
  {
   "cell_type": "markdown",
   "id": "467250e1",
   "metadata": {},
   "source": [
    "A quick training using har_train. The resulted model parameters will be saved into \"train_{num_epochs}.pth\"."
   ]
  },
  {
   "cell_type": "code",
   "execution_count": 6,
   "id": "4e219633",
   "metadata": {},
   "outputs": [
    {
     "name": "stderr",
     "output_type": "stream",
     "text": [
      "                                                                  \r"
     ]
    },
    {
     "name": "stdout",
     "output_type": "stream",
     "text": [
      "Epoch:1, Accuracy:0.5049,Loss:1.360828551\n",
      "Save model at train_1.pth...\n"
     ]
    }
   ],
   "source": [
    "# Pysensing training interface\n",
    "from inference.har import har_train\n",
    "har_train(model, train_loader, num_epochs=1, optimizer=optimizer, criterion=criterion, device=device)"
   ]
  },
  {
   "cell_type": "markdown",
   "id": "5c33e9e2-d2d1-4f09-ae72-e3de50bbaf7e",
   "metadata": {},
   "source": [
    "### Model inference"
   ]
  },
  {
   "cell_type": "markdown",
   "id": "a05bb8ba",
   "metadata": {},
   "source": [
    "Load the pretrained model, e.g. from train_1.pth, and perform human action recognition!"
   ]
  },
  {
   "cell_type": "code",
   "execution_count": 7,
   "id": "efcae682",
   "metadata": {},
   "outputs": [
    {
     "data": {
      "text/plain": [
       "har_MLP(\n",
       "  (fc): Sequential(\n",
       "    (0): Linear(in_features=614400, out_features=64, bias=True)\n",
       "    (1): ReLU()\n",
       "    (2): Dropout(p=0.5, inplace=False)\n",
       "    (3): Linear(in_features=64, out_features=64, bias=True)\n",
       "    (4): ReLU()\n",
       "    (5): Dropout(p=0.5, inplace=False)\n",
       "    (6): Linear(in_features=64, out_features=64, bias=True)\n",
       "    (7): ReLU()\n",
       "    (8): Dropout(p=0.5, inplace=False)\n",
       "    (9): Linear(in_features=64, out_features=64, bias=True)\n",
       "    (10): ReLU()\n",
       "    (11): Dropout(p=0.5, inplace=False)\n",
       "  )\n",
       "  (classifier): Sequential(\n",
       "    (0): Linear(in_features=64, out_features=5, bias=True)\n",
       "    (1): Softmax(dim=-1)\n",
       "  )\n",
       ")"
      ]
     },
     "execution_count": 7,
     "metadata": {},
     "output_type": "execute_result"
    }
   ],
   "source": [
    "## load pretrained model\n",
    "ckpt = torch.load('train_1.pth')['model_state_dict']\n",
    "model.load_state_dict(ckpt)\n",
    "model.eval()"
   ]
  },
  {
   "cell_type": "code",
   "execution_count": 11,
   "id": "224ad5c5-a6a2-439b-8404-1299359d9c31",
   "metadata": {
    "scrolled": true
   },
   "outputs": [
    {
     "name": "stdout",
     "output_type": "stream",
     "text": [
      "The predicted activity is 0, while the ground truth is 0\n"
     ]
    }
   ],
   "source": [
    "\n",
    "idx = 5\n",
    "voxels,activity= test_dataset.__getitem__(idx)\n",
    "predicted_result = model(torch.tensor(voxels).unsqueeze(0).float().to(device))\n",
    "print(\"The predicted activity is {}, while the ground truth is {}\".format(activity,torch.argmax(predicted_result).cpu()))"
   ]
  },
  {
   "cell_type": "code",
   "execution_count": null,
   "id": "ffb5ff7a-1052-4ebc-84d7-07c79994d8ed",
   "metadata": {},
   "outputs": [],
   "source": []
  }
 ],
 "metadata": {
  "kernelspec": {
   "display_name": "Python 3 (ipykernel)",
   "language": "python",
   "name": "python3"
  },
  "language_info": {
   "codemirror_mode": {
    "name": "ipython",
    "version": 3
   },
   "file_extension": ".py",
   "mimetype": "text/x-python",
   "name": "python",
   "nbconvert_exporter": "python",
   "pygments_lexer": "ipython3",
   "version": "3.9.15"
  }
 },
 "nbformat": 4,
 "nbformat_minor": 5
}
